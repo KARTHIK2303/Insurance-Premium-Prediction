{
  "cells": [
    {
      "cell_type": "markdown",
      "metadata": {
        "id": "3gkog3Juh9Gc"
      },
      "source": [
        "# <center>**Insurance Premium Prediction**</center>"
      ]
    },
    {
      "cell_type": "markdown",
      "metadata": {
        "id": "YWMSL5YstH7Y"
      },
      "source": [
        "# **Introduction**"
      ]
    },
    {
      "cell_type": "markdown",
      "metadata": {
        "id": "3RmtdGwZtNCN"
      },
      "source": [
        "# **Problem Statement**"
      ]
    },
    {
      "cell_type": "markdown",
      "metadata": {
        "id": "I9gFAe4ciXgJ"
      },
      "source": [
        "## **Importing required Libraries**"
      ]
    },
    {
      "cell_type": "code",
      "execution_count": null,
      "metadata": {
        "id": "FgGoDUu6h5qT"
      },
      "outputs": [
        {
          "ename": "ModuleNotFoundError",
          "evalue": "No module named 'pandas'",
          "output_type": "error",
          "traceback": [
            "\u001b[1;31m---------------------------------------------------------------------------\u001b[0m",
            "\u001b[1;31mModuleNotFoundError\u001b[0m                       Traceback (most recent call last)",
            "Cell \u001b[1;32mIn[1], line 1\u001b[0m\n\u001b[1;32m----> 1\u001b[0m \u001b[39mimport\u001b[39;00m \u001b[39mpandas\u001b[39;00m \u001b[39mas\u001b[39;00m \u001b[39mpd\u001b[39;00m\n\u001b[0;32m      2\u001b[0m \u001b[39mimport\u001b[39;00m \u001b[39mnumpy\u001b[39;00m \u001b[39mas\u001b[39;00m \u001b[39mnp\u001b[39;00m\n\u001b[0;32m      3\u001b[0m \u001b[39mimport\u001b[39;00m \u001b[39mmatplotlib\u001b[39;00m\u001b[39m.\u001b[39;00m\u001b[39mpyplot\u001b[39;00m \u001b[39mas\u001b[39;00m \u001b[39mplt\u001b[39;00m\n",
            "\u001b[1;31mModuleNotFoundError\u001b[0m: No module named 'pandas'"
          ]
        }
      ],
      "source": [
        "import pandas as pd\n",
        "import numpy as np\n",
        "import matplotlib.pyplot as plt\n",
        "%matplotlib inline\n",
        "import seaborn as sns\n",
        "import plotly.express as px\n",
        "\n",
        "import warnings\n",
        "warnings.filterwarnings('ignore')\n",
        "\n",
        "import logging\n",
        "import pickle\n",
        "import joblib"
      ]
    },
    {
      "cell_type": "code",
      "execution_count": 2,
      "metadata": {
        "id": "5-ROzbVDUDvI"
      },
      "outputs": [
        {
          "ename": "NameError",
          "evalue": "name 'logging' is not defined",
          "output_type": "error",
          "traceback": [
            "\u001b[1;31m---------------------------------------------------------------------------\u001b[0m",
            "\u001b[1;31mNameError\u001b[0m                                 Traceback (most recent call last)",
            "Cell \u001b[1;32mIn[2], line 2\u001b[0m\n\u001b[0;32m      1\u001b[0m \u001b[39m# Setting up logging\u001b[39;00m\n\u001b[1;32m----> 2\u001b[0m logging\u001b[39m.\u001b[39mbasicConfig(filename\u001b[39m=\u001b[39m\u001b[39m'\u001b[39m\u001b[39mapp.log\u001b[39m\u001b[39m'\u001b[39m, filemode\u001b[39m=\u001b[39m\u001b[39m'\u001b[39m\u001b[39mw\u001b[39m\u001b[39m'\u001b[39m, \u001b[39mformat\u001b[39m\u001b[39m=\u001b[39m\u001b[39m'\u001b[39m\u001b[39m%(asctime)s\u001b[39;00m\u001b[39m - \u001b[39m\u001b[39m%(name)s\u001b[39;00m\u001b[39m - \u001b[39m\u001b[39m%(levelname)s\u001b[39;00m\u001b[39m - \u001b[39m\u001b[39m%(message)s\u001b[39;00m\u001b[39m'\u001b[39m, level\u001b[39m=\u001b[39mlogging\u001b[39m.\u001b[39mINFO)\n\u001b[0;32m      3\u001b[0m logger \u001b[39m=\u001b[39m logging\u001b[39m.\u001b[39mgetLogger(\u001b[39m__name__\u001b[39m)\n",
            "\u001b[1;31mNameError\u001b[0m: name 'logging' is not defined"
          ]
        }
      ],
      "source": [
        "# Setting up logging\n",
        "logging.basicConfig(filename='app.log', filemode='w', format='%(asctime)s - %(name)s - %(levelname)s - %(message)s', level=logging.INFO)\n",
        "logger = logging.getLogger(__name__)"
      ]
    },
    {
      "cell_type": "markdown",
      "metadata": {
        "id": "I0XU7uBui2lt"
      },
      "source": [
        "## **Importing dataset**"
      ]
    },
    {
      "cell_type": "code",
      "execution_count": null,
      "metadata": {
        "id": "gyGPdflsiWjv"
      },
      "outputs": [
        {
          "ename": "",
          "evalue": "",
          "output_type": "error",
          "traceback": [
            "\u001b[1;31mRunning cells with 'MyDemoEnv' requires the ipykernel package.\n",
            "\u001b[1;31mRun the following command to install 'ipykernel' into the Python environment. \n",
            "\u001b[1;31mCommand: '\"c:/Users/Admin/Desktop/ineuron internship/My intership/Insurance/VS code Insurance/MyDemoEnv/Scripts/python.exe\" -m pip install ipykernel -U --force-reinstall'"
          ]
        }
      ],
      "source": [
        "Insurance = pd.read_csv(\"/content/insurance.csv\")"
      ]
    },
    {
      "cell_type": "code",
      "execution_count": null,
      "metadata": {
        "colab": {
          "base_uri": "https://localhost:8080/",
          "height": 223
        },
        "id": "udLf66b2jGAm",
        "outputId": "8b3119dd-94ec-40c2-f63b-6a77e5d123e3"
      },
      "outputs": [
        {
          "ename": "",
          "evalue": "",
          "output_type": "error",
          "traceback": [
            "\u001b[1;31mRunning cells with 'MyDemoEnv' requires the ipykernel package.\n",
            "\u001b[1;31mRun the following command to install 'ipykernel' into the Python environment. \n",
            "\u001b[1;31mCommand: '\"c:/Users/Admin/Desktop/ineuron internship/My intership/Insurance/VS code Insurance/MyDemoEnv/Scripts/python.exe\" -m pip install ipykernel -U --force-reinstall'"
          ]
        }
      ],
      "source": [
        "print(Insurance.shape)\n",
        "Insurance.head()"
      ]
    },
    {
      "cell_type": "markdown",
      "metadata": {
        "id": "CWc2n3zjjUj3"
      },
      "source": [
        "**Obsrvation:**\n",
        "The dataset contain 7 columns and 1338 rows.\n",
        "7 columns are age, sex, bmi,childern, smoker, region, expenses."
      ]
    },
    {
      "cell_type": "markdown",
      "metadata": {
        "id": "yviGoOBZr4yS"
      },
      "source": [
        "# **Data Description**"
      ]
    },
    {
      "cell_type": "code",
      "execution_count": null,
      "metadata": {
        "id": "kOswnFkwUKjj"
      },
      "outputs": [
        {
          "ename": "",
          "evalue": "",
          "output_type": "error",
          "traceback": [
            "\u001b[1;31mRunning cells with 'MyDemoEnv' requires the ipykernel package.\n",
            "\u001b[1;31mRun the following command to install 'ipykernel' into the Python environment. \n",
            "\u001b[1;31mCommand: '\"c:/Users/Admin/Desktop/ineuron internship/My intership/Insurance/VS code Insurance/MyDemoEnv/Scripts/python.exe\" -m pip install ipykernel -U --force-reinstall'"
          ]
        }
      ],
      "source": [
        "logger.info('Data Description')"
      ]
    },
    {
      "cell_type": "markdown",
      "metadata": {
        "id": "AI5H9Z54s24U"
      },
      "source": [
        "**The data present the different columns have the meaning as follows:**\n",
        "\n",
        "- age: age of primary beneficiary\n",
        "\n",
        "- sex: insurance contractor gender, female, male\n",
        "\n",
        "- bmi: Body mass index, providing an understanding of body, weights that are relatively high or low relative to height,\n",
        "objective index of body weight (kg / m ^ 2) using the ratio of height to weight, ideally 18.5 to 24.9\n",
        "\n",
        "- children: Number of children covered by health insurance / Number of dependents\n",
        "\n",
        "- smoker: Smoking\n",
        "\n",
        "- region: the beneficiary's residential area in the US, northeast, southeast, southwest, northwest.\n",
        "\n",
        "- charges: Individual medical costs billed by health insurance"
      ]
    },
    {
      "cell_type": "code",
      "execution_count": null,
      "metadata": {
        "colab": {
          "base_uri": "https://localhost:8080/"
        },
        "id": "-00KMuq7jLIn",
        "outputId": "08b63963-5422-4978-c00f-7d08c17fdc12"
      },
      "outputs": [
        {
          "ename": "",
          "evalue": "",
          "output_type": "error",
          "traceback": [
            "\u001b[1;31mRunning cells with 'MyDemoEnv' requires the ipykernel package.\n",
            "\u001b[1;31mRun the following command to install 'ipykernel' into the Python environment. \n",
            "\u001b[1;31mCommand: '\"c:/Users/Admin/Desktop/ineuron internship/My intership/Insurance/VS code Insurance/MyDemoEnv/Scripts/python.exe\" -m pip install ipykernel -U --force-reinstall'"
          ]
        }
      ],
      "source": [
        "# Information of the Insurance dataset\n",
        "Insurance.info()"
      ]
    },
    {
      "cell_type": "markdown",
      "metadata": {
        "id": "xRDEncActf_N"
      },
      "source": [
        "**Observation:**\n",
        "- Here we can see the total number of columns, columns name, columns data type and memory usage of the dataset.\n",
        "- In this dataset we have 2 float64, 2 int64, and 3 object\n",
        "- In this dataset the expenses column is the target column and remaining are the independent columns. \n"
      ]
    },
    {
      "cell_type": "markdown",
      "metadata": {
        "id": "RtaYyJwauZ9q"
      },
      "source": [
        "# **Data Exploration**"
      ]
    },
    {
      "cell_type": "code",
      "execution_count": null,
      "metadata": {
        "id": "OrRxOi31UWmT"
      },
      "outputs": [
        {
          "ename": "",
          "evalue": "",
          "output_type": "error",
          "traceback": [
            "\u001b[1;31mRunning cells with 'MyDemoEnv' requires the ipykernel package.\n",
            "\u001b[1;31mRun the following command to install 'ipykernel' into the Python environment. \n",
            "\u001b[1;31mCommand: '\"c:/Users/Admin/Desktop/ineuron internship/My intership/Insurance/VS code Insurance/MyDemoEnv/Scripts/python.exe\" -m pip install ipykernel -U --force-reinstall'"
          ]
        }
      ],
      "source": [
        "logger.info('Data Exploration')"
      ]
    },
    {
      "cell_type": "code",
      "execution_count": null,
      "metadata": {
        "colab": {
          "base_uri": "https://localhost:8080/"
        },
        "id": "hObRMw-2teP_",
        "outputId": "3e7c577e-4277-4be4-c600-04199c03781d"
      },
      "outputs": [
        {
          "ename": "",
          "evalue": "",
          "output_type": "error",
          "traceback": [
            "\u001b[1;31mRunning cells with 'MyDemoEnv' requires the ipykernel package.\n",
            "\u001b[1;31mRun the following command to install 'ipykernel' into the Python environment. \n",
            "\u001b[1;31mCommand: '\"c:/Users/Admin/Desktop/ineuron internship/My intership/Insurance/VS code Insurance/MyDemoEnv/Scripts/python.exe\" -m pip install ipykernel -U --force-reinstall'"
          ]
        }
      ],
      "source": [
        "# checking the duplicated values\n",
        "Insurance.duplicated().sum()"
      ]
    },
    {
      "cell_type": "markdown",
      "metadata": {
        "id": "VUJ8gUkvumUf"
      },
      "source": [
        "**Observation:**\n",
        "we have 1 duplicated value so we can drop that."
      ]
    },
    {
      "cell_type": "code",
      "execution_count": null,
      "metadata": {
        "id": "Q1vGJnTVujqD"
      },
      "outputs": [
        {
          "ename": "",
          "evalue": "",
          "output_type": "error",
          "traceback": [
            "\u001b[1;31mRunning cells with 'MyDemoEnv' requires the ipykernel package.\n",
            "\u001b[1;31mRun the following command to install 'ipykernel' into the Python environment. \n",
            "\u001b[1;31mCommand: '\"c:/Users/Admin/Desktop/ineuron internship/My intership/Insurance/VS code Insurance/MyDemoEnv/Scripts/python.exe\" -m pip install ipykernel -U --force-reinstall'"
          ]
        }
      ],
      "source": [
        "Insurance = Insurance.drop_duplicates()"
      ]
    },
    {
      "cell_type": "markdown",
      "metadata": {
        "id": "_OaiDtW1vFf0"
      },
      "source": [
        "**Observation:**\n",
        "Now we have 1337 rows with 7 columns."
      ]
    },
    {
      "cell_type": "code",
      "execution_count": null,
      "metadata": {
        "colab": {
          "base_uri": "https://localhost:8080/"
        },
        "id": "7REe4S-Du0Ys",
        "outputId": "8acda6d2-eec0-4c6e-f95d-afba531d9463"
      },
      "outputs": [
        {
          "ename": "",
          "evalue": "",
          "output_type": "error",
          "traceback": [
            "\u001b[1;31mRunning cells with 'MyDemoEnv' requires the ipykernel package.\n",
            "\u001b[1;31mRun the following command to install 'ipykernel' into the Python environment. \n",
            "\u001b[1;31mCommand: '\"c:/Users/Admin/Desktop/ineuron internship/My intership/Insurance/VS code Insurance/MyDemoEnv/Scripts/python.exe\" -m pip install ipykernel -U --force-reinstall'"
          ]
        }
      ],
      "source": [
        "# checking null values\n",
        "Insurance.isnull().sum()"
      ]
    },
    {
      "cell_type": "markdown",
      "metadata": {
        "id": "gh7ZbEsrvSzE"
      },
      "source": [
        "**Observation:**\n",
        "The dataset doesn't contain null values.\n"
      ]
    },
    {
      "cell_type": "code",
      "execution_count": null,
      "metadata": {
        "colab": {
          "base_uri": "https://localhost:8080/",
          "height": 300
        },
        "id": "JA-VNf6evQu4",
        "outputId": "f3c49920-4c53-40ed-a9f7-cc426893a085"
      },
      "outputs": [
        {
          "ename": "",
          "evalue": "",
          "output_type": "error",
          "traceback": [
            "\u001b[1;31mRunning cells with 'MyDemoEnv' requires the ipykernel package.\n",
            "\u001b[1;31mRun the following command to install 'ipykernel' into the Python environment. \n",
            "\u001b[1;31mCommand: '\"c:/Users/Admin/Desktop/ineuron internship/My intership/Insurance/VS code Insurance/MyDemoEnv/Scripts/python.exe\" -m pip install ipykernel -U --force-reinstall'"
          ]
        }
      ],
      "source": [
        "Insurance.describe()"
      ]
    },
    {
      "cell_type": "markdown",
      "metadata": {
        "id": "LECq698fvvYq"
      },
      "source": [
        "**Observation:**\n",
        "* The Average Age of the person is 40, and the minimum age is 18 and maximum age is 64.\n",
        "* "
      ]
    },
    {
      "cell_type": "code",
      "execution_count": null,
      "metadata": {
        "id": "n9y-1q6fvuXj"
      },
      "outputs": [
        {
          "ename": "",
          "evalue": "",
          "output_type": "error",
          "traceback": [
            "\u001b[1;31mRunning cells with 'MyDemoEnv' requires the ipykernel package.\n",
            "\u001b[1;31mRun the following command to install 'ipykernel' into the Python environment. \n",
            "\u001b[1;31mCommand: '\"c:/Users/Admin/Desktop/ineuron internship/My intership/Insurance/VS code Insurance/MyDemoEnv/Scripts/python.exe\" -m pip install ipykernel -U --force-reinstall'"
          ]
        }
      ],
      "source": [
        "# Identify the dataset columns into numerical and categorical columns\n",
        "categorical_columns = []\n",
        "numerical_columns = []\n",
        "\n",
        "for i in Insurance:\n",
        "  if Insurance[i].dtype=='object':\n",
        "    categorical_columns.append(i)\n",
        "  else:\n",
        "    numerical_columns.append(i)"
      ]
    },
    {
      "cell_type": "code",
      "execution_count": null,
      "metadata": {
        "colab": {
          "base_uri": "https://localhost:8080/"
        },
        "id": "Kpzued4yxEC2",
        "outputId": "bc9f730d-0a46-498b-8a80-ebd1dc04e683"
      },
      "outputs": [
        {
          "ename": "",
          "evalue": "",
          "output_type": "error",
          "traceback": [
            "\u001b[1;31mRunning cells with 'MyDemoEnv' requires the ipykernel package.\n",
            "\u001b[1;31mRun the following command to install 'ipykernel' into the Python environment. \n",
            "\u001b[1;31mCommand: '\"c:/Users/Admin/Desktop/ineuron internship/My intership/Insurance/VS code Insurance/MyDemoEnv/Scripts/python.exe\" -m pip install ipykernel -U --force-reinstall'"
          ]
        }
      ],
      "source": [
        "numerical_columns"
      ]
    },
    {
      "cell_type": "code",
      "execution_count": null,
      "metadata": {
        "colab": {
          "base_uri": "https://localhost:8080/"
        },
        "id": "1g-VMEgAxSSj",
        "outputId": "dc4dc2e0-90b9-4e96-c978-b2ce1ec00749"
      },
      "outputs": [
        {
          "ename": "",
          "evalue": "",
          "output_type": "error",
          "traceback": [
            "\u001b[1;31mRunning cells with 'MyDemoEnv' requires the ipykernel package.\n",
            "\u001b[1;31mRun the following command to install 'ipykernel' into the Python environment. \n",
            "\u001b[1;31mCommand: '\"c:/Users/Admin/Desktop/ineuron internship/My intership/Insurance/VS code Insurance/MyDemoEnv/Scripts/python.exe\" -m pip install ipykernel -U --force-reinstall'"
          ]
        }
      ],
      "source": [
        "categorical_columns"
      ]
    },
    {
      "cell_type": "code",
      "execution_count": null,
      "metadata": {
        "colab": {
          "base_uri": "https://localhost:8080/"
        },
        "id": "wQ0hLCNUxU4w",
        "outputId": "72936571-68e7-4f08-9405-462c686a52d9"
      },
      "outputs": [
        {
          "ename": "",
          "evalue": "",
          "output_type": "error",
          "traceback": [
            "\u001b[1;31mRunning cells with 'MyDemoEnv' requires the ipykernel package.\n",
            "\u001b[1;31mRun the following command to install 'ipykernel' into the Python environment. \n",
            "\u001b[1;31mCommand: '\"c:/Users/Admin/Desktop/ineuron internship/My intership/Insurance/VS code Insurance/MyDemoEnv/Scripts/python.exe\" -m pip install ipykernel -U --force-reinstall'"
          ]
        }
      ],
      "source": [
        "# checking the unquie values in categorical columns\n",
        "for i in categorical_columns:\n",
        "  print('*'*50)\n",
        "  print('value count for:',i)\n",
        "  print(Insurance[i].value_counts())\n",
        "  print('*'*50)"
      ]
    },
    {
      "cell_type": "markdown",
      "metadata": {
        "id": "qh37px9Y1r3Z"
      },
      "source": [
        "# **Exploratory Data Analysis**"
      ]
    },
    {
      "cell_type": "markdown",
      "metadata": {
        "id": "iaLYCNkH1xqx"
      },
      "source": [
        "**Univariate Analysis**"
      ]
    },
    {
      "cell_type": "code",
      "execution_count": null,
      "metadata": {
        "colab": {
          "base_uri": "https://localhost:8080/",
          "height": 657
        },
        "id": "38L1_oPtyHpf",
        "outputId": "2a460b6c-715e-4593-eadb-425a7e04a173"
      },
      "outputs": [
        {
          "ename": "",
          "evalue": "",
          "output_type": "error",
          "traceback": [
            "\u001b[1;31mRunning cells with 'MyDemoEnv' requires the ipykernel package.\n",
            "\u001b[1;31mRun the following command to install 'ipykernel' into the Python environment. \n",
            "\u001b[1;31mCommand: '\"c:/Users/Admin/Desktop/ineuron internship/My intership/Insurance/VS code Insurance/MyDemoEnv/Scripts/python.exe\" -m pip install ipykernel -U --force-reinstall'"
          ]
        }
      ],
      "source": [
        "fig = plt.figure(figsize= (15,9))\n",
        "for i, col in enumerate(categorical_columns):\n",
        "  ax=fig.add_subplot(2, 2, i+1)\n",
        "  sns.countplot(x=Insurance[col], ax=ax)\n",
        "\n",
        "fig.tight_layout()  \n",
        "plt.show()"
      ]
    },
    {
      "cell_type": "code",
      "execution_count": null,
      "metadata": {
        "colab": {
          "base_uri": "https://localhost:8080/",
          "height": 581
        },
        "id": "5dI0yKr1zYxL",
        "outputId": "4dc8bef5-fe2d-4a0b-d0f1-c4c2c7f798d0"
      },
      "outputs": [
        {
          "ename": "",
          "evalue": "",
          "output_type": "error",
          "traceback": [
            "\u001b[1;31mRunning cells with 'MyDemoEnv' requires the ipykernel package.\n",
            "\u001b[1;31mRun the following command to install 'ipykernel' into the Python environment. \n",
            "\u001b[1;31mCommand: '\"c:/Users/Admin/Desktop/ineuron internship/My intership/Insurance/VS code Insurance/MyDemoEnv/Scripts/python.exe\" -m pip install ipykernel -U --force-reinstall'"
          ]
        }
      ],
      "source": [
        "#Plot distribution of numerical columns\n",
        "fig = plt.figure(figsize= (20,25))\n",
        "for i, col in enumerate(numerical_columns):\n",
        "    \n",
        "    ax=fig.add_subplot( 5, 2, i+1)\n",
        "    \n",
        "    sns.distplot(Insurance[col])\n",
        "\n",
        "fig.tight_layout()  \n",
        "plt.show()"
      ]
    },
    {
      "cell_type": "markdown",
      "metadata": {
        "id": "nARTVu5D2Awf"
      },
      "source": [
        "**Bivariate Analysis**"
      ]
    },
    {
      "cell_type": "code",
      "execution_count": null,
      "metadata": {
        "colab": {
          "base_uri": "https://localhost:8080/",
          "height": 517
        },
        "id": "3p5m4nYk0C8e",
        "outputId": "fc010960-2a8c-477d-d181-55cf0bca2d29"
      },
      "outputs": [
        {
          "ename": "",
          "evalue": "",
          "output_type": "error",
          "traceback": [
            "\u001b[1;31mRunning cells with 'MyDemoEnv' requires the ipykernel package.\n",
            "\u001b[1;31mRun the following command to install 'ipykernel' into the Python environment. \n",
            "\u001b[1;31mCommand: '\"c:/Users/Admin/Desktop/ineuron internship/My intership/Insurance/VS code Insurance/MyDemoEnv/Scripts/python.exe\" -m pip install ipykernel -U --force-reinstall'"
          ]
        }
      ],
      "source": [
        "fig = px.scatter(Insurance,\n",
        "                 x='children',\n",
        "                 y='expenses',\n",
        "                 width=800,\n",
        "                 height=500,\n",
        "                 title='Childern vs Expenses')\n",
        "fig.update_traces(marker_size=5)\n",
        "fig.show()"
      ]
    },
    {
      "cell_type": "code",
      "execution_count": null,
      "metadata": {
        "colab": {
          "base_uri": "https://localhost:8080/",
          "height": 517
        },
        "id": "bNRzN0CVSl_G",
        "outputId": "ffc629b6-94bd-486c-a427-9a5e1cc37677"
      },
      "outputs": [
        {
          "ename": "",
          "evalue": "",
          "output_type": "error",
          "traceback": [
            "\u001b[1;31mRunning cells with 'MyDemoEnv' requires the ipykernel package.\n",
            "\u001b[1;31mRun the following command to install 'ipykernel' into the Python environment. \n",
            "\u001b[1;31mCommand: '\"c:/Users/Admin/Desktop/ineuron internship/My intership/Insurance/VS code Insurance/MyDemoEnv/Scripts/python.exe\" -m pip install ipykernel -U --force-reinstall'"
          ]
        }
      ],
      "source": [
        "fig = px.scatter(Insurance,\n",
        "                 x='age',\n",
        "                 y='expenses',\n",
        "                 width=800,\n",
        "                 height=500,\n",
        "                 title='Age vs Expenses')\n",
        "fig.update_traces(marker_size=5)\n",
        "fig.show()"
      ]
    },
    {
      "cell_type": "markdown",
      "metadata": {
        "id": "cWMR3zegS4Pk"
      },
      "source": [
        "The general trend seems to be that medical expenses with age, as we might expect. However, there is significant veriation at every age, and it's clear that age alone cannot be used to accurately determine medical expenses."
      ]
    },
    {
      "cell_type": "code",
      "execution_count": null,
      "metadata": {
        "colab": {
          "base_uri": "https://localhost:8080/",
          "height": 517
        },
        "id": "_RJSk_rTSyh2",
        "outputId": "3fbdba33-5b28-4ee2-a7da-9f41fdd318cc"
      },
      "outputs": [
        {
          "ename": "",
          "evalue": "",
          "output_type": "error",
          "traceback": [
            "\u001b[1;31mRunning cells with 'MyDemoEnv' requires the ipykernel package.\n",
            "\u001b[1;31mRun the following command to install 'ipykernel' into the Python environment. \n",
            "\u001b[1;31mCommand: '\"c:/Users/Admin/Desktop/ineuron internship/My intership/Insurance/VS code Insurance/MyDemoEnv/Scripts/python.exe\" -m pip install ipykernel -U --force-reinstall'"
          ]
        }
      ],
      "source": [
        "fig = px.scatter(Insurance,\n",
        "                 x='children',\n",
        "                 y='expenses',\n",
        "                 color='smoker',\n",
        "                 opacity=0.8,\n",
        "                 hover_data=['sex'],\n",
        "                 width=800,\n",
        "                 height=500,\n",
        "                 title='Childern vs Expenses')\n",
        "fig.update_traces(marker_size=5)\n",
        "fig.show()"
      ]
    },
    {
      "cell_type": "code",
      "execution_count": null,
      "metadata": {
        "colab": {
          "base_uri": "https://localhost:8080/",
          "height": 517
        },
        "id": "PMSv0qdiTxkf",
        "outputId": "7f896cd6-cfab-4bde-d98f-8e327e084cca"
      },
      "outputs": [
        {
          "ename": "",
          "evalue": "",
          "output_type": "error",
          "traceback": [
            "\u001b[1;31mRunning cells with 'MyDemoEnv' requires the ipykernel package.\n",
            "\u001b[1;31mRun the following command to install 'ipykernel' into the Python environment. \n",
            "\u001b[1;31mCommand: '\"c:/Users/Admin/Desktop/ineuron internship/My intership/Insurance/VS code Insurance/MyDemoEnv/Scripts/python.exe\" -m pip install ipykernel -U --force-reinstall'"
          ]
        }
      ],
      "source": [
        "fig = px.scatter(Insurance,\n",
        "                 x='age',\n",
        "                 y='expenses',\n",
        "                 color='smoker',\n",
        "                 opacity=0.8,\n",
        "                 hover_data=['sex'],\n",
        "                 width=800,\n",
        "                 height=500,\n",
        "                 title='Age vs Expenses')\n",
        "fig.update_traces(marker_size=5)\n",
        "fig.show()"
      ]
    },
    {
      "cell_type": "markdown",
      "metadata": {
        "id": "qjRUvNgBUHdS"
      },
      "source": [
        "We can see three 'cluster' of points, each of which seems to form a line with an increasing slope:\n",
        "* The first an dthe largest cluster consists primary of presumably 'healthy non-smokers' who have relatively low medical expenses compared to others.\n",
        "* The second cluster contains a mix of smokers and non-smokers. it's possible that these are actually two distinct but overlapping clusters 'non-smokers with medical issue' and 'smokers without major medical issues'.\n",
        "* The final cluster consists exclusively of smokers, persumably smokers with major medical issues that are possibly related to or worsened by smoking."
      ]
    },
    {
      "cell_type": "code",
      "execution_count": null,
      "metadata": {
        "colab": {
          "base_uri": "https://localhost:8080/",
          "height": 517
        },
        "id": "2wnOT3jWVgmP",
        "outputId": "2d44387a-5368-4da5-dcbf-775942726be7"
      },
      "outputs": [
        {
          "ename": "",
          "evalue": "",
          "output_type": "error",
          "traceback": [
            "\u001b[1;31mRunning cells with 'MyDemoEnv' requires the ipykernel package.\n",
            "\u001b[1;31mRun the following command to install 'ipykernel' into the Python environment. \n",
            "\u001b[1;31mCommand: '\"c:/Users/Admin/Desktop/ineuron internship/My intership/Insurance/VS code Insurance/MyDemoEnv/Scripts/python.exe\" -m pip install ipykernel -U --force-reinstall'"
          ]
        }
      ],
      "source": [
        "fig = px.scatter(Insurance,\n",
        "                 x='bmi',\n",
        "                 y='expenses',\n",
        "                 color='smoker',\n",
        "                 opacity=0.8,\n",
        "                 hover_data=['sex'],\n",
        "                 width=800,\n",
        "                 height=500,\n",
        "                 title='Childern vs Expenses')\n",
        "fig.update_traces(marker_size=5)\n",
        "fig.show()"
      ]
    },
    {
      "cell_type": "markdown",
      "metadata": {
        "id": "VpKQ7xLYVu8u"
      },
      "source": [
        "It apperes that for non-smokers, an increase inBMi doesn't seem to be related to an increases in medical expenses. however, medical expenses seem to be significantly higher for smokers with b=BMI greater than 30."
      ]
    },
    {
      "cell_type": "markdown",
      "metadata": {
        "id": "2T-lxu_YWKe7"
      },
      "source": [
        "**Now lets visulaize the correlation of categorical features to premium**"
      ]
    },
    {
      "cell_type": "code",
      "execution_count": null,
      "metadata": {
        "colab": {
          "base_uri": "https://localhost:8080/",
          "height": 388
        },
        "id": "1EB80WaWWIAG",
        "outputId": "c15546c9-ab2d-4d7f-d3bc-9d99743112cf"
      },
      "outputs": [
        {
          "ename": "",
          "evalue": "",
          "output_type": "error",
          "traceback": [
            "\u001b[1;31mRunning cells with 'MyDemoEnv' requires the ipykernel package.\n",
            "\u001b[1;31mRun the following command to install 'ipykernel' into the Python environment. \n",
            "\u001b[1;31mCommand: '\"c:/Users/Admin/Desktop/ineuron internship/My intership/Insurance/VS code Insurance/MyDemoEnv/Scripts/python.exe\" -m pip install ipykernel -U --force-reinstall'"
          ]
        }
      ],
      "source": [
        "var = 'sex'\n",
        "data = pd.concat((Insurance[var], Insurance['expenses']),axis=1)\n",
        "\n",
        "plt.subplots(figsize=(7,6))\n",
        "fig = sns.boxplot(x=var, y='expenses', data=data)"
      ]
    },
    {
      "cell_type": "markdown",
      "metadata": {
        "id": "PMcSlKb_XpX-"
      },
      "source": [
        "**Observation:**\n",
        "From the box plot, expenses of female is less than male."
      ]
    },
    {
      "cell_type": "code",
      "execution_count": null,
      "metadata": {
        "colab": {
          "base_uri": "https://localhost:8080/",
          "height": 388
        },
        "id": "SMNhgrGRXgQT",
        "outputId": "ef69cfae-2df7-4ea5-9f61-98957908d974"
      },
      "outputs": [
        {
          "ename": "",
          "evalue": "",
          "output_type": "error",
          "traceback": [
            "\u001b[1;31mRunning cells with 'MyDemoEnv' requires the ipykernel package.\n",
            "\u001b[1;31mRun the following command to install 'ipykernel' into the Python environment. \n",
            "\u001b[1;31mCommand: '\"c:/Users/Admin/Desktop/ineuron internship/My intership/Insurance/VS code Insurance/MyDemoEnv/Scripts/python.exe\" -m pip install ipykernel -U --force-reinstall'"
          ]
        }
      ],
      "source": [
        "var = 'smoker'\n",
        "data = pd.concat((Insurance[var], Insurance['expenses']),axis=1)\n",
        "\n",
        "plt.subplots(figsize=(7,6))\n",
        "fig = sns.boxplot(x=var, y='expenses', data=data)"
      ]
    },
    {
      "cell_type": "markdown",
      "metadata": {
        "id": "x98glYDbX67j"
      },
      "source": [
        "**Observation:**\n",
        "From the box plot, the non-smoker people insurance expenses is less tha somkers."
      ]
    },
    {
      "cell_type": "code",
      "execution_count": null,
      "metadata": {
        "colab": {
          "base_uri": "https://localhost:8080/",
          "height": 388
        },
        "id": "97b8pVuHYRG-",
        "outputId": "03b1579d-4343-4676-98f7-077fedc764c4"
      },
      "outputs": [
        {
          "ename": "",
          "evalue": "",
          "output_type": "error",
          "traceback": [
            "\u001b[1;31mRunning cells with 'MyDemoEnv' requires the ipykernel package.\n",
            "\u001b[1;31mRun the following command to install 'ipykernel' into the Python environment. \n",
            "\u001b[1;31mCommand: '\"c:/Users/Admin/Desktop/ineuron internship/My intership/Insurance/VS code Insurance/MyDemoEnv/Scripts/python.exe\" -m pip install ipykernel -U --force-reinstall'"
          ]
        }
      ],
      "source": [
        "var = 'region'\n",
        "data = pd.concat((Insurance[var], Insurance['expenses']),axis=1)\n",
        "\n",
        "plt.subplots(figsize=(7,6))\n",
        "fig = sns.boxplot(x=var, y='expenses', data=data)"
      ]
    },
    {
      "cell_type": "markdown",
      "metadata": {
        "id": "Z3Lw7adrYbUX"
      },
      "source": [
        "**Observation:**\n",
        "There is not much diff in median of all regions premium."
      ]
    },
    {
      "cell_type": "markdown",
      "metadata": {
        "id": "rd3FfD83OKOq"
      },
      "source": [
        "**Multivariate Analysis**"
      ]
    },
    {
      "cell_type": "code",
      "execution_count": null,
      "metadata": {
        "colab": {
          "base_uri": "https://localhost:8080/",
          "height": 286
        },
        "id": "T4ih4544OOIK",
        "outputId": "4c814018-d85e-4a38-c17a-7dad246829f9"
      },
      "outputs": [
        {
          "ename": "",
          "evalue": "",
          "output_type": "error",
          "traceback": [
            "\u001b[1;31mRunning cells with 'MyDemoEnv' requires the ipykernel package.\n",
            "\u001b[1;31mRun the following command to install 'ipykernel' into the Python environment. \n",
            "\u001b[1;31mCommand: '\"c:/Users/Admin/Desktop/ineuron internship/My intership/Insurance/VS code Insurance/MyDemoEnv/Scripts/python.exe\" -m pip install ipykernel -U --force-reinstall'"
          ]
        }
      ],
      "source": [
        "sns.heatmap(Insurance.corr(),annot=True)"
      ]
    },
    {
      "cell_type": "markdown",
      "metadata": {
        "id": "LUFHxkLCQ1Jo"
      },
      "source": [
        "**Observation:**\n",
        "From the heatmap, expenses is 30% correlated to age and 20% to bmi."
      ]
    },
    {
      "cell_type": "markdown",
      "metadata": {
        "id": "sW1lDB88YtTP"
      },
      "source": [
        "# **Distribution**"
      ]
    },
    {
      "cell_type": "code",
      "execution_count": null,
      "metadata": {
        "colab": {
          "base_uri": "https://localhost:8080/",
          "height": 369
        },
        "id": "VPTcQ78xOoIu",
        "outputId": "a2fb180b-7e4a-43a0-ac8d-d7a8b6e1f331"
      },
      "outputs": [
        {
          "ename": "",
          "evalue": "",
          "output_type": "error",
          "traceback": [
            "\u001b[1;31mRunning cells with 'MyDemoEnv' requires the ipykernel package.\n",
            "\u001b[1;31mRun the following command to install 'ipykernel' into the Python environment. \n",
            "\u001b[1;31mCommand: '\"c:/Users/Admin/Desktop/ineuron internship/My intership/Insurance/VS code Insurance/MyDemoEnv/Scripts/python.exe\" -m pip install ipykernel -U --force-reinstall'"
          ]
        }
      ],
      "source": [
        "sns.displot(Insurance['expenses'])\n",
        "plt.show()"
      ]
    },
    {
      "cell_type": "markdown",
      "metadata": {
        "id": "mVR4O27taJDY"
      },
      "source": [
        "For most customers, the annual medical expenses are under 10k. only a small fraction of customer have higher medical expenses."
      ]
    },
    {
      "cell_type": "code",
      "execution_count": null,
      "metadata": {
        "colab": {
          "base_uri": "https://localhost:8080/"
        },
        "id": "tigDK2maQgvV",
        "outputId": "03cfc747-8ba6-452a-9529-dab6e75b0e06"
      },
      "outputs": [
        {
          "ename": "",
          "evalue": "",
          "output_type": "error",
          "traceback": [
            "\u001b[1;31mRunning cells with 'MyDemoEnv' requires the ipykernel package.\n",
            "\u001b[1;31mRun the following command to install 'ipykernel' into the Python environment. \n",
            "\u001b[1;31mCommand: '\"c:/Users/Admin/Desktop/ineuron internship/My intership/Insurance/VS code Insurance/MyDemoEnv/Scripts/python.exe\" -m pip install ipykernel -U --force-reinstall'"
          ]
        }
      ],
      "source": [
        "print('Skewness: %f',Insurance['expenses'].skew())"
      ]
    },
    {
      "cell_type": "markdown",
      "metadata": {
        "id": "EegYnQ70auf8"
      },
      "source": [
        "The rule of thumb seems to be: if the skewness is between -0.5 and 0.5, the data are fairly symmetrical. If the skewness is between -1 and -0.5 or 0.5 and 1, the data are moderatly skewed. If the skewness is less than -1 or greater than 1, the data are heighly skewed.\n",
        "\n",
        "From this it is clear that expenses data is highly skewed.\n",
        "\n",
        "we can say that, expenses data is:\n",
        "* Deviated from the normal distribution\n",
        "* Has positive skewness\n",
        "* And shows peakedness\n",
        "\n",
        "so, we need to normalize the data using Normalizing techniques(scaling, log-scaling, z-score)"
      ]
    },
    {
      "cell_type": "code",
      "execution_count": null,
      "metadata": {
        "colab": {
          "base_uri": "https://localhost:8080/"
        },
        "id": "xEeqRMKUasoN",
        "outputId": "e15265f0-9974-4e69-a50b-26481c7ee219"
      },
      "outputs": [
        {
          "ename": "",
          "evalue": "",
          "output_type": "error",
          "traceback": [
            "\u001b[1;31mRunning cells with 'MyDemoEnv' requires the ipykernel package.\n",
            "\u001b[1;31mRun the following command to install 'ipykernel' into the Python environment. \n",
            "\u001b[1;31mCommand: '\"c:/Users/Admin/Desktop/ineuron internship/My intership/Insurance/VS code Insurance/MyDemoEnv/Scripts/python.exe\" -m pip install ipykernel -U --force-reinstall'"
          ]
        }
      ],
      "source": [
        "print('Kurtosis: %f',Insurance['expenses'].kurt())"
      ]
    },
    {
      "cell_type": "markdown",
      "metadata": {
        "id": "sNjkD52scj7j"
      },
      "source": [
        "Positive kurtosis indicate a 'heavy-tailed'ndistribution and negative kurtosis indicate a 'light tailed' distribution.\n",
        "\n",
        "From this, our data is heavly tailed."
      ]
    },
    {
      "cell_type": "markdown",
      "metadata": {
        "id": "0YZ-r0J4cj1R"
      },
      "source": [
        "* **Similary lets check how the other features are distributed**"
      ]
    },
    {
      "cell_type": "code",
      "execution_count": null,
      "metadata": {
        "colab": {
          "base_uri": "https://localhost:8080/",
          "height": 369
        },
        "id": "eMQtufSNcSKq",
        "outputId": "7b9efd0e-b1a4-4b17-cc06-4bc02d2e5816"
      },
      "outputs": [
        {
          "ename": "",
          "evalue": "",
          "output_type": "error",
          "traceback": [
            "\u001b[1;31mRunning cells with 'MyDemoEnv' requires the ipykernel package.\n",
            "\u001b[1;31mRun the following command to install 'ipykernel' into the Python environment. \n",
            "\u001b[1;31mCommand: '\"c:/Users/Admin/Desktop/ineuron internship/My intership/Insurance/VS code Insurance/MyDemoEnv/Scripts/python.exe\" -m pip install ipykernel -U --force-reinstall'"
          ]
        }
      ],
      "source": [
        "sns.displot(Insurance['bmi'])\n",
        "plt.show()"
      ]
    },
    {
      "cell_type": "code",
      "execution_count": null,
      "metadata": {
        "colab": {
          "base_uri": "https://localhost:8080/"
        },
        "id": "_qvM4oP5dNlD",
        "outputId": "f19e81ae-06a4-4f41-cc8e-fe01069af5d2"
      },
      "outputs": [
        {
          "ename": "",
          "evalue": "",
          "output_type": "error",
          "traceback": [
            "\u001b[1;31mRunning cells with 'MyDemoEnv' requires the ipykernel package.\n",
            "\u001b[1;31mRun the following command to install 'ipykernel' into the Python environment. \n",
            "\u001b[1;31mCommand: '\"c:/Users/Admin/Desktop/ineuron internship/My intership/Insurance/VS code Insurance/MyDemoEnv/Scripts/python.exe\" -m pip install ipykernel -U --force-reinstall'"
          ]
        }
      ],
      "source": [
        "print('Skewness: %f',Insurance['bmi'].skew())\n",
        "print('Kurtosis: %f',Insurance['bmi'].kurt())"
      ]
    },
    {
      "cell_type": "markdown",
      "metadata": {
        "id": "vwPcPaTqdkmN"
      },
      "source": [
        "This data looks fairly symmetrical and negatie kurtosis indicates that  the data is lightly tailed."
      ]
    },
    {
      "cell_type": "code",
      "execution_count": null,
      "metadata": {
        "colab": {
          "base_uri": "https://localhost:8080/",
          "height": 369
        },
        "id": "Cz4Db_oddiOQ",
        "outputId": "48d931c7-90f2-4c23-8603-25bf69f13369"
      },
      "outputs": [
        {
          "ename": "",
          "evalue": "",
          "output_type": "error",
          "traceback": [
            "\u001b[1;31mRunning cells with 'MyDemoEnv' requires the ipykernel package.\n",
            "\u001b[1;31mRun the following command to install 'ipykernel' into the Python environment. \n",
            "\u001b[1;31mCommand: '\"c:/Users/Admin/Desktop/ineuron internship/My intership/Insurance/VS code Insurance/MyDemoEnv/Scripts/python.exe\" -m pip install ipykernel -U --force-reinstall'"
          ]
        }
      ],
      "source": [
        "sns.displot(Insurance['age'])\n",
        "plt.show()"
      ]
    },
    {
      "cell_type": "code",
      "execution_count": null,
      "metadata": {
        "colab": {
          "base_uri": "https://localhost:8080/"
        },
        "id": "_b1ZTVEId1HZ",
        "outputId": "7936db17-aa0b-4d42-de42-c84a4382210b"
      },
      "outputs": [
        {
          "ename": "",
          "evalue": "",
          "output_type": "error",
          "traceback": [
            "\u001b[1;31mRunning cells with 'MyDemoEnv' requires the ipykernel package.\n",
            "\u001b[1;31mRun the following command to install 'ipykernel' into the Python environment. \n",
            "\u001b[1;31mCommand: '\"c:/Users/Admin/Desktop/ineuron internship/My intership/Insurance/VS code Insurance/MyDemoEnv/Scripts/python.exe\" -m pip install ipykernel -U --force-reinstall'"
          ]
        }
      ],
      "source": [
        "print('Skewness: %f',Insurance['age'].skew())\n",
        "print('Kurtosis: %f',Insurance['age'].kurt())"
      ]
    },
    {
      "cell_type": "markdown",
      "metadata": {
        "id": "T7RXdBMneTGG"
      },
      "source": [
        "## **Feature Engineering**\n",
        "\n",
        "Performing feature engineering to understand the different features in the dataset, and their relationship with the target variable.\n",
        "\n",
        "It helps us understand the importance of every feature in the dataset.\n",
        "\n",
        "Featurewiz identifies the most important features, and reduces the datset to have top 4 important features.\n",
        "\n",
        "We have PCA as well to determain the most important features and performace dimensionality reduction.\n",
        "\n",
        "\n"
      ]
    },
    {
      "cell_type": "markdown",
      "metadata": {
        "id": "4EN61VgHfP8r"
      },
      "source": [
        "#### **FeatureWiz**"
      ]
    },
    {
      "cell_type": "code",
      "execution_count": null,
      "metadata": {
        "id": "EjbR6La3d3Nd"
      },
      "outputs": [
        {
          "ename": "",
          "evalue": "",
          "output_type": "error",
          "traceback": [
            "\u001b[1;31mRunning cells with 'MyDemoEnv' requires the ipykernel package.\n",
            "\u001b[1;31mRun the following command to install 'ipykernel' into the Python environment. \n",
            "\u001b[1;31mCommand: '\"c:/Users/Admin/Desktop/ineuron internship/My intership/Insurance/VS code Insurance/MyDemoEnv/Scripts/python.exe\" -m pip install ipykernel -U --force-reinstall'"
          ]
        }
      ],
      "source": [
        "from sklearn.preprocessing import LabelEncoder\n",
        "encoder=LabelEncoder()\n",
        "for i, col in enumerate(categorical_columns):\n",
        "  Insurance[col]=encoder.fit_transform(Insurance[col])"
      ]
    },
    {
      "cell_type": "code",
      "execution_count": null,
      "metadata": {
        "id": "xiXL601YgqfH"
      },
      "outputs": [
        {
          "ename": "",
          "evalue": "",
          "output_type": "error",
          "traceback": [
            "\u001b[1;31mRunning cells with 'MyDemoEnv' requires the ipykernel package.\n",
            "\u001b[1;31mRun the following command to install 'ipykernel' into the Python environment. \n",
            "\u001b[1;31mCommand: '\"c:/Users/Admin/Desktop/ineuron internship/My intership/Insurance/VS code Insurance/MyDemoEnv/Scripts/python.exe\" -m pip install ipykernel -U --force-reinstall'"
          ]
        }
      ],
      "source": [
        "#!pip install featurewiz"
      ]
    },
    {
      "cell_type": "code",
      "execution_count": null,
      "metadata": {
        "id": "ufnjHbEYiIpB"
      },
      "outputs": [
        {
          "ename": "",
          "evalue": "",
          "output_type": "error",
          "traceback": [
            "\u001b[1;31mRunning cells with 'MyDemoEnv' requires the ipykernel package.\n",
            "\u001b[1;31mRun the following command to install 'ipykernel' into the Python environment. \n",
            "\u001b[1;31mCommand: '\"c:/Users/Admin/Desktop/ineuron internship/My intership/Insurance/VS code Insurance/MyDemoEnv/Scripts/python.exe\" -m pip install ipykernel -U --force-reinstall'"
          ]
        }
      ],
      "source": [
        "from featurewiz import featurewiz"
      ]
    },
    {
      "cell_type": "code",
      "execution_count": null,
      "metadata": {
        "colab": {
          "base_uri": "https://localhost:8080/",
          "height": 206
        },
        "id": "wXJb0UABgy3-",
        "outputId": "11193d5f-ee56-4c20-8f92-f9bb809673ff"
      },
      "outputs": [
        {
          "ename": "",
          "evalue": "",
          "output_type": "error",
          "traceback": [
            "\u001b[1;31mRunning cells with 'MyDemoEnv' requires the ipykernel package.\n",
            "\u001b[1;31mRun the following command to install 'ipykernel' into the Python environment. \n",
            "\u001b[1;31mCommand: '\"c:/Users/Admin/Desktop/ineuron internship/My intership/Insurance/VS code Insurance/MyDemoEnv/Scripts/python.exe\" -m pip install ipykernel -U --force-reinstall'"
          ]
        }
      ],
      "source": [
        "Insurance.head()"
      ]
    },
    {
      "cell_type": "code",
      "execution_count": null,
      "metadata": {
        "colab": {
          "base_uri": "https://localhost:8080/",
          "height": 1000
        },
        "id": "g4ED6iSEh_6i",
        "outputId": "c53e59a5-71d5-4980-c71a-aaffd2ca79e6"
      },
      "outputs": [
        {
          "ename": "",
          "evalue": "",
          "output_type": "error",
          "traceback": [
            "\u001b[1;31mRunning cells with 'MyDemoEnv' requires the ipykernel package.\n",
            "\u001b[1;31mRun the following command to install 'ipykernel' into the Python environment. \n",
            "\u001b[1;31mCommand: '\"c:/Users/Admin/Desktop/ineuron internship/My intership/Insurance/VS code Insurance/MyDemoEnv/Scripts/python.exe\" -m pip install ipykernel -U --force-reinstall'"
          ]
        }
      ],
      "source": [
        "target = 'expenses'\n",
        "feature = featurewiz(Insurance, target, corr_limit=0.70, verbose=2)"
      ]
    },
    {
      "cell_type": "markdown",
      "metadata": {
        "id": "CspehHzcqBNG"
      },
      "source": [
        "### **Normalization**"
      ]
    },
    {
      "cell_type": "code",
      "execution_count": null,
      "metadata": {
        "id": "6L6GqJxTzDYW"
      },
      "outputs": [
        {
          "ename": "",
          "evalue": "",
          "output_type": "error",
          "traceback": [
            "\u001b[1;31mRunning cells with 'MyDemoEnv' requires the ipykernel package.\n",
            "\u001b[1;31mRun the following command to install 'ipykernel' into the Python environment. \n",
            "\u001b[1;31mCommand: '\"c:/Users/Admin/Desktop/ineuron internship/My intership/Insurance/VS code Insurance/MyDemoEnv/Scripts/python.exe\" -m pip install ipykernel -U --force-reinstall'"
          ]
        }
      ],
      "source": [
        "Insurance['expenses']=np.log10(Insurance['expenses'])"
      ]
    },
    {
      "cell_type": "code",
      "execution_count": null,
      "metadata": {
        "colab": {
          "base_uri": "https://localhost:8080/",
          "height": 386
        },
        "id": "GPAeK7n5zfkN",
        "outputId": "2bc9b7f1-bc1f-4b06-9db0-a1efc957757b"
      },
      "outputs": [
        {
          "ename": "",
          "evalue": "",
          "output_type": "error",
          "traceback": [
            "\u001b[1;31mRunning cells with 'MyDemoEnv' requires the ipykernel package.\n",
            "\u001b[1;31mRun the following command to install 'ipykernel' into the Python environment. \n",
            "\u001b[1;31mCommand: '\"c:/Users/Admin/Desktop/ineuron internship/My intership/Insurance/VS code Insurance/MyDemoEnv/Scripts/python.exe\" -m pip install ipykernel -U --force-reinstall'"
          ]
        }
      ],
      "source": [
        "sns.displot(Insurance['expenses'])"
      ]
    },
    {
      "cell_type": "code",
      "execution_count": null,
      "metadata": {
        "id": "LE485TfgxSa0"
      },
      "outputs": [
        {
          "ename": "",
          "evalue": "",
          "output_type": "error",
          "traceback": [
            "\u001b[1;31mRunning cells with 'MyDemoEnv' requires the ipykernel package.\n",
            "\u001b[1;31mRun the following command to install 'ipykernel' into the Python environment. \n",
            "\u001b[1;31mCommand: '\"c:/Users/Admin/Desktop/ineuron internship/My intership/Insurance/VS code Insurance/MyDemoEnv/Scripts/python.exe\" -m pip install ipykernel -U --force-reinstall'"
          ]
        }
      ],
      "source": [
        "X = Insurance.drop(['expenses'],axis=1)\n",
        "y=Insurance['expenses']"
      ]
    },
    {
      "cell_type": "markdown",
      "metadata": {
        "id": "v6eTwxyx0y57"
      },
      "source": [
        "standard Scalar\n"
      ]
    },
    {
      "cell_type": "code",
      "execution_count": null,
      "metadata": {
        "id": "6v8LYmVa03Ef"
      },
      "outputs": [
        {
          "ename": "",
          "evalue": "",
          "output_type": "error",
          "traceback": [
            "\u001b[1;31mRunning cells with 'MyDemoEnv' requires the ipykernel package.\n",
            "\u001b[1;31mRun the following command to install 'ipykernel' into the Python environment. \n",
            "\u001b[1;31mCommand: '\"c:/Users/Admin/Desktop/ineuron internship/My intership/Insurance/VS code Insurance/MyDemoEnv/Scripts/python.exe\" -m pip install ipykernel -U --force-reinstall'"
          ]
        }
      ],
      "source": [
        "from sklearn.preprocessing import StandardScaler, OneHotEncoder\n",
        "from sklearn.pipeline import Pipeline\n",
        "from sklearn.compose import ColumnTransformer\n",
        "from sklearn.model_selection import train_test_split\n",
        "from sklearn.linear_model import LinearRegression\n",
        "from sklearn.tree import DecisionTreeRegressor\n",
        "from sklearn.ensemble import RandomForestRegressor,GradientBoostingRegressor,AdaBoostRegressor\n",
        "from sklearn.neighbors import KNeighborsRegressor\n",
        "from xgboost import XGBRegressor \n",
        "from sklearn.metrics import mean_squared_error,r2_score,accuracy_score\n",
        "import pickle"
      ]
    },
    {
      "cell_type": "code",
      "execution_count": null,
      "metadata": {
        "id": "D6OsGq2OCao_"
      },
      "outputs": [
        {
          "ename": "",
          "evalue": "",
          "output_type": "error",
          "traceback": [
            "\u001b[1;31mRunning cells with 'MyDemoEnv' requires the ipykernel package.\n",
            "\u001b[1;31mRun the following command to install 'ipykernel' into the Python environment. \n",
            "\u001b[1;31mCommand: '\"c:/Users/Admin/Desktop/ineuron internship/My intership/Insurance/VS code Insurance/MyDemoEnv/Scripts/python.exe\" -m pip install ipykernel -U --force-reinstall'"
          ]
        }
      ],
      "source": [
        "#!pip install lazypredict"
      ]
    },
    {
      "cell_type": "code",
      "execution_count": null,
      "metadata": {
        "id": "Y1ujWpNu0HgF"
      },
      "outputs": [
        {
          "ename": "",
          "evalue": "",
          "output_type": "error",
          "traceback": [
            "\u001b[1;31mRunning cells with 'MyDemoEnv' requires the ipykernel package.\n",
            "\u001b[1;31mRun the following command to install 'ipykernel' into the Python environment. \n",
            "\u001b[1;31mCommand: '\"c:/Users/Admin/Desktop/ineuron internship/My intership/Insurance/VS code Insurance/MyDemoEnv/Scripts/python.exe\" -m pip install ipykernel -U --force-reinstall'"
          ]
        }
      ],
      "source": [
        "# Creatign new variables for numerical attributes/columns\n",
        "numeric_features= numerical_columns\n",
        "# Making pipeline for scaling down numeric features\n",
        "numeric_transformer=Pipeline(steps=[('scaler', StandardScaler())]) \n",
        "\n",
        "# Creatign new variables for categorical attributes/columns\n",
        "categoric_features = categorical_columns\n",
        "# Making pipeline for Encoding categorical features\n",
        "categorical_transformer=OneHotEncoder(handle_unknown='ignore')\n",
        "\n",
        "# Creating new variable for these numerical and categorical features pipeline\n",
        "preprocessor = ColumnTransformer(\n",
        "    transformers=[\n",
        "        ('num',numeric_transformer, numeric_features),\n",
        "        ('cat',categorical_transformer,categoric_features)\n",
        "    ]\n",
        ")\n"
      ]
    },
    {
      "cell_type": "code",
      "execution_count": null,
      "metadata": {
        "id": "j_7z3CJtA-Fc"
      },
      "outputs": [
        {
          "ename": "",
          "evalue": "",
          "output_type": "error",
          "traceback": [
            "\u001b[1;31mRunning cells with 'MyDemoEnv' requires the ipykernel package.\n",
            "\u001b[1;31mRun the following command to install 'ipykernel' into the Python environment. \n",
            "\u001b[1;31mCommand: '\"c:/Users/Admin/Desktop/ineuron internship/My intership/Insurance/VS code Insurance/MyDemoEnv/Scripts/python.exe\" -m pip install ipykernel -U --force-reinstall'"
          ]
        }
      ],
      "source": [
        "# Splitting the dataset fro training and testing the model\n",
        "X_train, X_test, y_train, y_test = train_test_split(X, y, test_size=0.2, random_state=42)"
      ]
    },
    {
      "cell_type": "code",
      "execution_count": null,
      "metadata": {
        "colab": {
          "base_uri": "https://localhost:8080/"
        },
        "id": "VPun82RHGMlX",
        "outputId": "a81a7578-c41b-48a2-ef11-a2cda8d7b429"
      },
      "outputs": [
        {
          "ename": "",
          "evalue": "",
          "output_type": "error",
          "traceback": [
            "\u001b[1;31mRunning cells with 'MyDemoEnv' requires the ipykernel package.\n",
            "\u001b[1;31mRun the following command to install 'ipykernel' into the Python environment. \n",
            "\u001b[1;31mCommand: '\"c:/Users/Admin/Desktop/ineuron internship/My intership/Insurance/VS code Insurance/MyDemoEnv/Scripts/python.exe\" -m pip install ipykernel -U --force-reinstall'"
          ]
        }
      ],
      "source": [
        "# Let us check shape of the traing and test set\n",
        "print(X_train.shape,y_test.shape)"
      ]
    },
    {
      "cell_type": "markdown",
      "metadata": {
        "id": "yK-VNd5yW3Td"
      },
      "source": [
        "## **Model**"
      ]
    },
    {
      "cell_type": "code",
      "execution_count": null,
      "metadata": {
        "id": "iox0juZXW17-"
      },
      "outputs": [
        {
          "ename": "",
          "evalue": "",
          "output_type": "error",
          "traceback": [
            "\u001b[1;31mRunning cells with 'MyDemoEnv' requires the ipykernel package.\n",
            "\u001b[1;31mRun the following command to install 'ipykernel' into the Python environment. \n",
            "\u001b[1;31mCommand: '\"c:/Users/Admin/Desktop/ineuron internship/My intership/Insurance/VS code Insurance/MyDemoEnv/Scripts/python.exe\" -m pip install ipykernel -U --force-reinstall'"
          ]
        }
      ],
      "source": [
        "logger.info('Model Building')"
      ]
    },
    {
      "cell_type": "markdown",
      "metadata": {
        "id": "2GNYr5b5ZJN4"
      },
      "source": [
        "**Defining Baseline Models**\n",
        "* In this section we will define all of the best possible basine models and train using the training data"
      ]
    },
    {
      "cell_type": "code",
      "execution_count": null,
      "metadata": {
        "id": "g5U6qiJRXAu-"
      },
      "outputs": [
        {
          "ename": "",
          "evalue": "",
          "output_type": "error",
          "traceback": [
            "\u001b[1;31mRunning cells with 'MyDemoEnv' requires the ipykernel package.\n",
            "\u001b[1;31mRun the following command to install 'ipykernel' into the Python environment. \n",
            "\u001b[1;31mCommand: '\"c:/Users/Admin/Desktop/ineuron internship/My intership/Insurance/VS code Insurance/MyDemoEnv/Scripts/python.exe\" -m pip install ipykernel -U --force-reinstall'"
          ]
        }
      ],
      "source": [
        "# Defining the scores list\n",
        "model_scores = []\n",
        "\n",
        "# Defining a list of useful regressors\n",
        "models = {'Linear Regression': LinearRegression(),\n",
        "          'Random Forest Regression': RandomForestRegressor(),\n",
        "          'Decision Tree Regression': DecisionTreeRegressor(),\n",
        "          'Gradient Boosting Regression': GradientBoostingRegressor(),\n",
        "          'KNN': KNeighborsRegressor(),\n",
        "          'XGBoost': XGBRegressor(random_state=42)}"
      ]
    },
    {
      "cell_type": "code",
      "execution_count": null,
      "metadata": {
        "colab": {
          "base_uri": "https://localhost:8080/"
        },
        "id": "SAWJXtECXpx6",
        "outputId": "cd9140ed-813c-4024-b7bf-30c3b9a0e79a"
      },
      "outputs": [
        {
          "ename": "",
          "evalue": "",
          "output_type": "error",
          "traceback": [
            "\u001b[1;31mRunning cells with 'MyDemoEnv' requires the ipykernel package.\n",
            "\u001b[1;31mRun the following command to install 'ipykernel' into the Python environment. \n",
            "\u001b[1;31mCommand: '\"c:/Users/Admin/Desktop/ineuron internship/My intership/Insurance/VS code Insurance/MyDemoEnv/Scripts/python.exe\" -m pip install ipykernel -U --force-reinstall'"
          ]
        }
      ],
      "source": [
        "for name, model in models.items():\n",
        "    # Fit the model on train data\n",
        "    model.fit(X_train, y_train)\n",
        "\n",
        "    # Make predictions using train data\n",
        "    y_train_pred = model.predict(X_train)\n",
        "\n",
        "    # Make predictions using test data\n",
        "    y_pred = model.predict(X_test)\n",
        "    print(f'Model Name: {name}')\n",
        "    print(f'RMSE Train: {np.sqrt(mean_squared_error(y_train, y_train_pred))}')\n",
        "    print(f'RMSE Test: {np.sqrt(mean_squared_error(y_test, y_pred))}')\n",
        "    print(f'R2 Score: {r2_score(y_train, y_train_pred)}')\n",
        "    print(f'R2 Score: {r2_score(y_test, y_pred)}')\n",
        "\n",
        "    model_scores.append((name,\n",
        "                       np.sqrt(mean_squared_error(y_train, y_train_pred)),\n",
        "                       np.sqrt(mean_squared_error(y_test, y_pred))))\n",
        "\n",
        "    print('*'*50)\n",
        "\n",
        "   "
      ]
    },
    {
      "cell_type": "markdown",
      "metadata": {
        "id": "Fpx43gqAdncY"
      },
      "source": [
        "### **Model Performace Evaluation**\n",
        "\n",
        "\n",
        "Formula\n",
        "<center><img src = \"https://www.gstatic.com/education/formulas2/472522532/en/root_mean_square_deviation.svg\"></center>\n",
        "\n",
        "RMSE\t=\troot-mean-square deviation\n",
        "\n",
        "i\t=\tvariable \n",
        "\n",
        "n\t=\tnumber of non-missing data points\n",
        "\n",
        "x(i)\t=\tactual observations time series\n",
        "\n",
        "xhat(i)\t=\testimated time series"
      ]
    },
    {
      "cell_type": "code",
      "execution_count": null,
      "metadata": {
        "colab": {
          "base_uri": "https://localhost:8080/",
          "height": 269
        },
        "id": "LYac5jEDZquo",
        "outputId": "2daaf2b9-5977-472c-d5d5-994682e7d429"
      },
      "outputs": [
        {
          "ename": "",
          "evalue": "",
          "output_type": "error",
          "traceback": [
            "\u001b[1;31mRunning cells with 'MyDemoEnv' requires the ipykernel package.\n",
            "\u001b[1;31mRun the following command to install 'ipykernel' into the Python environment. \n",
            "\u001b[1;31mCommand: '\"c:/Users/Admin/Desktop/ineuron internship/My intership/Insurance/VS code Insurance/MyDemoEnv/Scripts/python.exe\" -m pip install ipykernel -U --force-reinstall'"
          ]
        }
      ],
      "source": [
        "models = pd.DataFrame(data=model_scores, columns=['Model', 'Train RMSE', 'Test RMSE'])\n",
        "models.sort_values(by='Test RMSE', ascending=True)"
      ]
    },
    {
      "cell_type": "markdown",
      "metadata": {
        "id": "F4d5dbf-yNCf"
      },
      "source": [
        "From the above observation we can say that the performace (RMSE) od Gradient Boosting Regressor is good as compared to other models."
      ]
    },
    {
      "cell_type": "code",
      "execution_count": null,
      "metadata": {
        "colab": {
          "base_uri": "https://localhost:8080/"
        },
        "id": "IOoMvLx9uSTA",
        "outputId": "cc3c9f49-06e7-4532-bddb-2728e2bca0ef"
      },
      "outputs": [
        {
          "ename": "",
          "evalue": "",
          "output_type": "error",
          "traceback": [
            "\u001b[1;31mRunning cells with 'MyDemoEnv' requires the ipykernel package.\n",
            "\u001b[1;31mRun the following command to install 'ipykernel' into the Python environment. \n",
            "\u001b[1;31mCommand: '\"c:/Users/Admin/Desktop/ineuron internship/My intership/Insurance/VS code Insurance/MyDemoEnv/Scripts/python.exe\" -m pip install ipykernel -U --force-reinstall'"
          ]
        }
      ],
      "source": [
        "# Define the hyperparameter grid\n",
        "param_grid = {\n",
        "    'n_estimators': [100, 200, 300],\n",
        "    'max_depth': [3, 5, 7],\n",
        "    'learning_rate': [0.1, 0.05, 0.01],\n",
        "    'min_samples_split': [2, 5, 10],\n",
        "    'min_samples_leaf': [1, 2, 4],\n",
        "}\n",
        "\n",
        "# Define the model\n",
        "gb = GradientBoostingRegressor(random_state=42)\n",
        "\n",
        "# Define the grid search with cross-validation\n",
        "grid_search = GridSearchCV(estimator=gb, param_grid=param_grid, cv=5, n_jobs=-1, scoring='neg_mean_squared_error')\n",
        "\n",
        "# Fit the grid search to the training data\n",
        "grid_search.fit(X_train, y_train)\n",
        "\n",
        "# Print the best hyperparameters and the best score\n",
        "print(\"Best hyperparameters: \", grid_search.best_params_)\n",
        "print(\"Best RMSE score: \", np.sqrt(-grid_search.best_score_))\n",
        "\n",
        "# Save the best model\n",
        "joblib.dump(grid_search.best_estimator_, 'best_model.joblib')"
      ]
    }
  ],
  "metadata": {
    "colab": {
      "provenance": []
    },
    "kernelspec": {
      "display_name": "Python 3",
      "name": "python3"
    },
    "language_info": {
      "codemirror_mode": {
        "name": "ipython",
        "version": 3
      },
      "file_extension": ".py",
      "mimetype": "text/x-python",
      "name": "python",
      "nbconvert_exporter": "python",
      "pygments_lexer": "ipython3",
      "version": "3.10.7"
    }
  },
  "nbformat": 4,
  "nbformat_minor": 0
}
